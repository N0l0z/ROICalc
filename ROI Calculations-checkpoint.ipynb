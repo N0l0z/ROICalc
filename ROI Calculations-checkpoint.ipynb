{
 "cells": [
  {
   "cell_type": "code",
   "execution_count": 16,
   "metadata": {},
   "outputs": [
    {
     "name": "stdout",
     "output_type": "stream",
     "text": [
      "Enter the total original investment for this property.500000\n",
      "Enter total monthly revenue.5000\n",
      "Enter total monthly expenses.4123\n",
      "Annual Expense is 49476, Annual Revenue is 60000\n",
      "ROI for this Property is 2.1048%!\n"
     ]
    }
   ],
   "source": [
    "#how much is the total amount spent on the property during purchase, income monthly and annually & expenses monthly and annually.\n",
    "\n",
    "class ROICalculation:\n",
    "    def __init__(self, investment, income, expense):\n",
    "            self.investment = investment\n",
    "            self.income = income\n",
    "            self.expense = expense\n",
    "#figuring out total for year    \n",
    "    def annual_tally(self):\n",
    "        annual_expense = 12 * self.expense\n",
    "        annual_revenue = 12 * self.income\n",
    "        return annual_expense, annual_revenue\n",
    "#figure out total after settled each year\n",
    "    def cash_on_cash(self):\n",
    "        annual_expense, annual_revenue = self.annual_tally()\n",
    "        annual_cashflow = (annual_revenue - annual_expense)/investment\n",
    "        return annual_cashflow\n",
    "#input for numbers from user\n",
    "if __name__ == \"__main__\":\n",
    "    investment = int(input(\"Enter the total original investment for this property.\"))\n",
    "    income = int(input(\"Enter total monthly revenue.\"))\n",
    "    expense = int(input(\"Enter total monthly expenses.\"))\n",
    "    \n",
    "roi_calculator = ROICalculation(investment, income, expense)\n",
    "annual_expense, annual_revenue = roi_calculator.annual_tally()\n",
    "annual_cashflow = roi_calculator.cash_on_cash()\n",
    "\n",
    "\n",
    "print(f\"Annual Expense is {annual_expense}, Annual Revenue is {annual_revenue}\")\n",
    "\n",
    "print(f\"ROI for this Property is {annual_cashflow * 100}%!\")\n",
    "\n",
    "\n",
    "\n"
   ]
  },
  {
   "cell_type": "code",
   "execution_count": null,
   "metadata": {},
   "outputs": [],
   "source": []
  },
  {
   "cell_type": "code",
   "execution_count": null,
   "metadata": {},
   "outputs": [],
   "source": []
  }
 ],
 "metadata": {
  "kernelspec": {
   "display_name": "Python 3 (ipykernel)",
   "language": "python",
   "name": "python3"
  },
  "language_info": {
   "codemirror_mode": {
    "name": "ipython",
    "version": 3
   },
   "file_extension": ".py",
   "mimetype": "text/x-python",
   "name": "python",
   "nbconvert_exporter": "python",
   "pygments_lexer": "ipython3",
   "version": "3.11.5"
  }
 },
 "nbformat": 4,
 "nbformat_minor": 2
}
